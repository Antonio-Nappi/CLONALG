{
 "cells": [
  {
   "cell_type": "markdown",
   "metadata": {},
   "source": [
    "# CLONALG Description"
   ]
  },
  {
   "cell_type": "markdown",
   "metadata": {},
   "source": [
    "In artificial immune systems, clonal selection algorithms are a class of algorithms inspired by the clonal selection theory of acquired immunity that explains how B and T lymphocytes improve their response to antigens over time called affinity maturation. These algorithms focus on the Darwinian attributes of the theory where selection is inspired by the affinity of antigen-antibody interactions, reproduction is inspired by cell division, and variation is inspired by somatic hypermutation. Clonal selection algorithms are most commonly applied to optimization and pattern recognition domains, some of which resemble parallel hill climbing and the genetic algorithm without the recombination operator $[2]$."
   ]
  },
  {
   "cell_type": "markdown",
   "metadata": {
    "ExecuteTime": {
     "end_time": "2018-11-01T10:39:47.648671Z",
     "start_time": "2018-11-01T10:39:47.636765Z"
    }
   },
   "source": [
    "<img src=\"figures/clonalg_pseudocoge.png\" alt=\"Drawing\" style=\"width: 700px;\"/>"
   ]
  },
  {
   "cell_type": "markdown",
   "metadata": {},
   "source": [
    "[[1] Clonal Selection Algorithm](http://www.cleveralgorithms.com/nature-inspired/immune/clonal_selection_algorithm.html).\n",
    "\n",
    "[[2] Clonal Selection Algorithm - Wikipedia](https://en.wikipedia.org/wiki/Clonal_selection_algorithm)."
   ]
  },
  {
   "cell_type": "markdown",
   "metadata": {},
   "source": [
    "# Implementation"
   ]
  },
  {
   "cell_type": "markdown",
   "metadata": {},
   "source": [
    "The demonstration problem is an istance of a continuous function optimization that seeks $min\\ f(x)$ where $f\\ =\\ \\sum_{i=1}^{n} x_i^2$, $-5.0 \\le x_i \\le 5.0$ and $n = 3$. The optimal solution for this basin function is $(v_0, ..., v_{n-1}) = 0.0$ $[1]$."
   ]
  },
  {
   "cell_type": "code",
   "execution_count": null,
   "metadata": {
    "ExecuteTime": {
     "end_time": "2018-11-07T01:57:57.850196Z",
     "start_time": "2018-11-07T01:57:57.394806Z"
    }
   },
   "outputs": [],
   "source": [
    "import matplotlib.pyplot as plt\n",
    "import seaborn as sns\n",
    "\n",
    "from clonalg_code import clonalg\n",
    "from pprint import pprint"
   ]
  },
  {
   "cell_type": "code",
   "execution_count": null,
   "metadata": {
    "ExecuteTime": {
     "end_time": "2018-11-07T01:56:57.020635Z",
     "start_time": "2018-11-07T01:56:57.011187Z"
    }
   },
   "outputs": [],
   "source": [
    "# Inputs parameters\n",
    "b_lo, b_up = (-5, 5)\n",
    "\n",
    "population_size = 100\n",
    "selection_size = 10\n",
    "problem_size = 3\n",
    "random_cells_num = 20\n",
    "clone_rate = 20\n",
    "mutation_rate = 0.2\n",
    "stop_codition = 1000"
   ]
  },
  {
   "cell_type": "code",
   "execution_count": null,
   "metadata": {
    "ExecuteTime": {
     "end_time": "2018-11-07T01:56:59.100186Z",
     "start_time": "2018-11-07T01:56:57.022018Z"
    },
    "scrolled": true
   },
   "outputs": [],
   "source": [
    "stop = 0\n",
    "\n",
    "# Population <- CreateRandomCells(Population_size, Problem_size)\n",
    "population = clonalg.create_random_cells(population_size, problem_size, b_lo, b_up)\n",
    "best_affinity_it = []\n",
    "\n",
    "while stop != stop_codition:\n",
    "    # Affinity(p_i)\n",
    "    population_affinity = [(p_i, clonalg.affinity(p_i)) for p_i in population]\n",
    "    populatin_affinity = sorted(population_affinity, key=lambda x: x[1])\n",
    "    \n",
    "    best_affinity_it.append(populatin_affinity[:5])\n",
    "    \n",
    "    # Populatin_select <- Select(Population, Selection_size)\n",
    "    population_select = populatin_affinity[:selection_size]\n",
    "    \n",
    "    # Population_clones <- clone(p_i, Clone_rate)\n",
    "    population_clones = []\n",
    "    for p_i in population_select:\n",
    "        p_i_clones = clonalg.clone(p_i, clone_rate)\n",
    "        population_clones += p_i_clones\n",
    "        \n",
    "    # Hypermutate and affinity\n",
    "    pop_clones_tmp = []\n",
    "    for p_i in population_clones:\n",
    "        ind_tmp = clonalg.hypermutate(p_i, mutation_rate, b_lo, b_up)\n",
    "        pop_clones_tmp.append(ind_tmp)\n",
    "    population_clones = pop_clones_tmp\n",
    "    del pop_clones_tmp\n",
    "    \n",
    "    # Population <- Select(Population, Population_clones, Population_size)\n",
    "    population = clonalg.select(populatin_affinity, population_clones, population_size)\n",
    "    # Population_rand <- CreateRandomCells(RandomCells_num)\n",
    "    population_rand = clonalg.create_random_cells(random_cells_num, problem_size, b_lo, b_up)\n",
    "    population_rand_affinity = [(p_i, clonalg.affinity(p_i)) for p_i in population_rand]\n",
    "    population_rand_affinity = sorted(population_rand_affinity, key=lambda x: x[1])\n",
    "    # Replace(Population, Population_rand)\n",
    "    population = clonalg.replace(population_affinity, population_rand_affinity, population_size)\n",
    "    population = [p_i[0] for p_i in population]\n",
    "    \n",
    "    stop += 1"
   ]
  },
  {
   "cell_type": "code",
   "execution_count": null,
   "metadata": {
    "ExecuteTime": {
     "end_time": "2018-11-07T01:56:59.114121Z",
     "start_time": "2018-11-07T01:56:59.101434Z"
    }
   },
   "outputs": [],
   "source": [
    "# We get the mean of the best 5 individuals returned by iteration of the above loop\n",
    "bests_mean = []\n",
    "iterations = [i for i in range(1000)]\n",
    "\n",
    "for pop_it in best_affinity_it:\n",
    "    bests_mean.append(np.mean([p_i[1] for p_i in pop_it]))"
   ]
  },
  {
   "cell_type": "code",
   "execution_count": null,
   "metadata": {
    "ExecuteTime": {
     "end_time": "2018-11-07T01:58:02.733783Z",
     "start_time": "2018-11-07T01:58:00.199698Z"
    }
   },
   "outputs": [],
   "source": [
    "fig, ax = plt.subplots(1, 1, figsize = (5, 5), dpi=150)\n",
    "\n",
    "sns.set_style(\"darkgrid\")\n",
    "sns.pointplot(x=iterations, y=bests_mean)\n",
    "\n",
    "plt.tick_params(\n",
    "    axis='x',          # changes apply to the x-axis\n",
    "    which='both',      # both major and minor ticks are affected\n",
    "    bottom=False,      # ticks along the bottom edge are off\n",
    "    top=False,         # ticks along the top edge are off\n",
    "    labelbottom=False) # labels along the bottom edge are off\n",
    "plt.title(\"Mean of 5 Best Individuals by Iteration\", fontsize=12)\n",
    "plt.ylabel(\"Affinity Mean\", fontsize=10)\n",
    "plt.rc('ytick',labelsize=2)\n",
    "plt.xlabel(\"# Iteration\", fontsize=10)\n",
    "plt.show()"
   ]
  }
 ],
 "metadata": {
  "kernelspec": {
   "display_name": "Python 3",
   "language": "python",
   "name": "python3"
  },
  "language_info": {
   "codemirror_mode": {
    "name": "ipython",
    "version": 3
   },
   "file_extension": ".py",
   "mimetype": "text/x-python",
   "name": "python",
   "nbconvert_exporter": "python",
   "pygments_lexer": "ipython3",
   "version": "3.6.4"
  },
  "toc": {
   "base_numbering": 1,
   "nav_menu": {},
   "number_sections": true,
   "sideBar": true,
   "skip_h1_title": false,
   "title_cell": "Table of Contents",
   "title_sidebar": "Contents",
   "toc_cell": false,
   "toc_position": {},
   "toc_section_display": true,
   "toc_window_display": false
  },
  "varInspector": {
   "cols": {
    "lenName": 16,
    "lenType": 16,
    "lenVar": 40
   },
   "kernels_config": {
    "python": {
     "delete_cmd_postfix": "",
     "delete_cmd_prefix": "del ",
     "library": "var_list.py",
     "varRefreshCmd": "print(var_dic_list())"
    },
    "r": {
     "delete_cmd_postfix": ") ",
     "delete_cmd_prefix": "rm(",
     "library": "var_list.r",
     "varRefreshCmd": "cat(var_dic_list()) "
    }
   },
   "types_to_exclude": [
    "module",
    "function",
    "builtin_function_or_method",
    "instance",
    "_Feature"
   ],
   "window_display": false
  }
 },
 "nbformat": 4,
 "nbformat_minor": 2
}
